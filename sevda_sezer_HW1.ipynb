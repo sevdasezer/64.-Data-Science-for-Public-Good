{
 "cells": [
  {
   "cell_type": "code",
   "execution_count": 5,
   "metadata": {},
   "outputs": [],
   "source": [
    "l=[[\"a\",\"b\"],[\"a\",\"c\",\"d\"],[\"a\"],[\"b\",\"d\"]]\n"
   ]
  },
  {
   "cell_type": "markdown",
   "metadata": {},
   "source": [
    "Böyle listenin içinde liste olan bir yapınız var. Counter adında bir fonksiyon yazmanizi istiyorum.\n",
    "Arguman olarak boyle bir listeyle cagirdigimizda bize hangi elemandan kac tane vari gösteren bir dictionary dondursun\n"
   ]
  },
  {
   "cell_type": "code",
   "execution_count": 17,
   "metadata": {},
   "outputs": [],
   "source": [
    "def Counter(x):\n",
    "    dict_counter={}\n",
    "    for list_eleman in x:\n",
    "        for idx in range(len(list_eleman)):\n",
    "            if list_eleman[idx] not in dict_counter.keys():\n",
    "                dict_counter[f\"{list_eleman[idx]}\"]=1\n",
    "            else:\n",
    "                dict_counter[f\"{list_eleman[idx]}\"]=dict_counter[f\"{list_eleman[idx]}\"]+1\n",
    "    return dict_counter\n",
    "            \n",
    "    "
   ]
  },
  {
   "cell_type": "code",
   "execution_count": 21,
   "metadata": {},
   "outputs": [
    {
     "data": {
      "text/plain": [
       "{'a': 3, 'b': 2, 'c': 1, 'd': 2}"
      ]
     },
     "execution_count": 21,
     "metadata": {},
     "output_type": "execute_result"
    }
   ],
   "source": [
    "Counter(l)"
   ]
  },
  {
   "cell_type": "code",
   "execution_count": null,
   "metadata": {},
   "outputs": [],
   "source": []
  }
 ],
 "metadata": {
  "kernelspec": {
   "display_name": "Python 3",
   "language": "python",
   "name": "python3"
  },
  "language_info": {
   "codemirror_mode": {
    "name": "ipython",
    "version": 3
   },
   "file_extension": ".py",
   "mimetype": "text/x-python",
   "name": "python",
   "nbconvert_exporter": "python",
   "pygments_lexer": "ipython3",
   "version": "3.8.3"
  }
 },
 "nbformat": 4,
 "nbformat_minor": 4
}
